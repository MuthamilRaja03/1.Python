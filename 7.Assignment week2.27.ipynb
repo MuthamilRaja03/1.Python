{
 "cells": [
  {
   "cell_type": "code",
   "execution_count": 33,
   "id": "ee18a5f1-d7a2-43c4-8249-a9084fcad6db",
   "metadata": {},
   "outputs": [],
   "source": [
    "def subfields():\n",
    "    print(\"Subfields in AI are:\")\n",
    "    fields = [\"Machine Learning\", \"Neural Networks\", \"Vision\", \"Robotics\", \"Speech Processing\", \"NLP\"]\n",
    "    for field in fields:\n",
    "        print(field)"
   ]
  },
  {
   "cell_type": "code",
   "execution_count": 34,
   "id": "dce946ac-4f4c-44f4-8860-5bb1f86dafd9",
   "metadata": {},
   "outputs": [
    {
     "name": "stdout",
     "output_type": "stream",
     "text": [
      "Subfields in AI are:\n",
      "Machine Learning\n",
      "Neural Networks\n",
      "Vision\n",
      "Robotics\n",
      "Speech Processing\n",
      "NLP\n"
     ]
    }
   ],
   "source": [
    "subfields()"
   ]
  },
  {
   "cell_type": "code",
   "execution_count": 27,
   "id": "3a21e834-9664-4558-8603-b99092db508b",
   "metadata": {},
   "outputs": [],
   "source": [
    "def oddeven():\n",
    "    num=int(input(\"Enter the number:\"))\n",
    "    if((num%2)==0):\n",
    "        print(\"Even Number\")\n",
    "    else:\n",
    "        print(\"Odd Number\")"
   ]
  },
  {
   "cell_type": "code",
   "execution_count": 28,
   "id": "55b4d097-bc98-4e15-9935-bd7946acf6e7",
   "metadata": {},
   "outputs": [
    {
     "name": "stdin",
     "output_type": "stream",
     "text": [
      "Enter the number: 52452\n"
     ]
    },
    {
     "name": "stdout",
     "output_type": "stream",
     "text": [
      "Even Number\n"
     ]
    }
   ],
   "source": [
    "oddeven()"
   ]
  },
  {
   "cell_type": "code",
   "execution_count": 83,
   "id": "629eabcc-22dd-449f-85b2-08b4504b8cb6",
   "metadata": {},
   "outputs": [],
   "source": [
    "def eligible():\n",
    "    gender=input(\"Your gender:\")\n",
    "    age=int(input(\"Your age:\"))\n",
    "    if (gender==\"male\"):\n",
    "        if(age>=21):\n",
    "            print(\"you are eligible\")\n",
    "        else:\n",
    "            print(\"you are not Eligible\")\n",
    "    if (gender==\"female\"):\n",
    "        if(age<=18):\n",
    "            print(\"you are not eligilbe\")\n",
    "        else:\n",
    "            print(\"you are eligible\")\n",
    "    "
   ]
  },
  {
   "cell_type": "code",
   "execution_count": 84,
   "id": "c62b4be6-1b47-4ce4-bae4-758888b63b15",
   "metadata": {},
   "outputs": [
    {
     "name": "stdin",
     "output_type": "stream",
     "text": [
      "Your gender: female\n",
      "Your age: 15\n"
     ]
    },
    {
     "name": "stdout",
     "output_type": "stream",
     "text": [
      "you are not eligilbe\n"
     ]
    }
   ],
   "source": [
    "eligible()"
   ]
  },
  {
   "cell_type": "code",
   "execution_count": 81,
   "id": "2be74af6-75e4-45cb-b625-1dbcbebb6d85",
   "metadata": {},
   "outputs": [],
   "source": [
    "def eligible():\n",
    "    gender=input(\"Your gender: \")\n",
    "    age=int(input(\"Your age: \"))\n",
    "\n",
    "    if (gender==\"male\" and age>= 21) or (gender==\"female\" and age>18):\n",
    "        print(\"You are eligible\")\n",
    "    else:\n",
    "        print(\"You are not eligible\")"
   ]
  },
  {
   "cell_type": "code",
   "execution_count": 82,
   "id": "7bda773a-aed7-4906-a2aa-f017b55dbf7e",
   "metadata": {},
   "outputs": [
    {
     "name": "stdin",
     "output_type": "stream",
     "text": [
      "Your gender:  female\n",
      "Your age:  17\n"
     ]
    },
    {
     "name": "stdout",
     "output_type": "stream",
     "text": [
      "You are not eligible\n"
     ]
    }
   ],
   "source": [
    "eligible()"
   ]
  },
  {
   "cell_type": "code",
   "execution_count": 114,
   "id": "8c535368-8db7-459c-9649-26191e0cb5ec",
   "metadata": {},
   "outputs": [],
   "source": [
    "def percentage(mark1,mark2,mark3,mark4,mark5):\n",
    "    Total=mark1+mark2+mark3+mark4+mark5\n",
    "    print(\"subject1=\",mark1)\n",
    "    print(\"subject2=\",mark2)\n",
    "    print(\"subject3=\",mark3)\n",
    "    print(\"subject4=\",mark4)\n",
    "    print(\"subject5=\",mark5)\n",
    "    print(\"Total=\",Total)\n",
    "    marks=Total/5\n",
    "    print(\"percentage=\",marks)\n",
    "    return marks"
   ]
  },
  {
   "cell_type": "code",
   "execution_count": 115,
   "id": "32a3472c-cab6-433d-8850-edfdfc33a182",
   "metadata": {},
   "outputs": [
    {
     "name": "stdout",
     "output_type": "stream",
     "text": [
      "subject1= 98\n",
      "subject2= 87\n",
      "subject3= 95\n",
      "subject4= 95\n",
      "subject5= 93\n",
      "Total= 468\n",
      "percentage= 93.6\n"
     ]
    },
    {
     "data": {
      "text/plain": [
       "93.6"
      ]
     },
     "execution_count": 115,
     "metadata": {},
     "output_type": "execute_result"
    }
   ],
   "source": [
    "percentage(98,87,95,95,93)"
   ]
  },
  {
   "cell_type": "code",
   "execution_count": 124,
   "id": "3665460e-571b-491f-bc4f-7f08d9fc1b33",
   "metadata": {},
   "outputs": [],
   "source": [
    "def triangle():\n",
    "    num1=int(input(\"Height is:\"))\n",
    "    num2=int(input(\"Breadth is:\"))\n",
    "    print(\"Area of triangle:\",(num1*num2)/2)\n",
    "    num3=int(input(\"Height1 is:\"))\n",
    "    num4=int(input(\"Height2 is:\"))\n",
    "    num5=int(input(\"Height3 is:\"))\n",
    "    print(\"perimeter of triangle:\",num3+num4+num5)"
   ]
  },
  {
   "cell_type": "code",
   "execution_count": 125,
   "id": "a3ae1b62-44d9-4256-b936-926b61673a36",
   "metadata": {},
   "outputs": [
    {
     "name": "stdin",
     "output_type": "stream",
     "text": [
      "Height is: 32\n",
      "Breadth is: 34\n"
     ]
    },
    {
     "name": "stdout",
     "output_type": "stream",
     "text": [
      "Area of triangle: 544.0\n"
     ]
    },
    {
     "name": "stdin",
     "output_type": "stream",
     "text": [
      "Height1 is: 2\n",
      "Height2 is: 4\n",
      "Height3 is: 4\n"
     ]
    },
    {
     "name": "stdout",
     "output_type": "stream",
     "text": [
      "perimeter of triangle: 10\n"
     ]
    }
   ],
   "source": [
    "triangle()"
   ]
  }
 ],
 "metadata": {
  "kernelspec": {
   "display_name": "Python 3 (ipykernel)",
   "language": "python",
   "name": "python3"
  },
  "language_info": {
   "codemirror_mode": {
    "name": "ipython",
    "version": 3
   },
   "file_extension": ".py",
   "mimetype": "text/x-python",
   "name": "python",
   "nbconvert_exporter": "python",
   "pygments_lexer": "ipython3",
   "version": "3.12.7"
  }
 },
 "nbformat": 4,
 "nbformat_minor": 5
}
