{
 "cells": [
  {
   "cell_type": "code",
   "execution_count": 1,
   "id": "565c3a8a-35de-43aa-9769-3686193e4c3e",
   "metadata": {},
   "outputs": [
    {
     "name": "stdout",
     "output_type": "stream",
     "text": [
      "Welcome to Assignment-1\n"
     ]
    }
   ],
   "source": [
    "print(\"Welcome to Assignment-1\")"
   ]
  },
  {
   "cell_type": "code",
   "execution_count": 6,
   "id": "1fc77548-7d8b-471d-b8e9-d57a38554041",
   "metadata": {},
   "outputs": [
    {
     "name": "stdout",
     "output_type": "stream",
     "text": [
      "Num1= 10\n",
      "Num2= 30\n",
      "Add= 40\n"
     ]
    }
   ],
   "source": [
    "num1=10\n",
    "num2=30\n",
    "print(\"Num1=\",num1)\n",
    "print(\"Num2=\",num2)\n",
    "print(\"Add=\",num1+num2)"
   ]
  },
  {
   "cell_type": "code",
   "execution_count": 1,
   "id": "f87d4ba8-2ffa-4029-be95-377b1c515209",
   "metadata": {},
   "outputs": [
    {
     "name": "stdin",
     "output_type": "stream",
     "text": [
      "Enter the BMI Index : 34\n"
     ]
    },
    {
     "name": "stdout",
     "output_type": "stream",
     "text": [
      "Heavy Overweight\n"
     ]
    }
   ],
   "source": [
    "num=int(input(\"Enter the BMI Index :\"))\n",
    "if(num<18.4):\n",
    "    print(\"Under weight\")\n",
    "elif(num<24.9):\n",
    "    print(\"Normal weight\")\n",
    "elif(num<29.9):\n",
    "    print(\"Overweight\")\n",
    "elif(num<34.9):\n",
    "    print(\"Heavy Overweight\")\n",
    "elif(num>35):\n",
    "    print(\"Extremely Overweight\")      "
   ]
  },
  {
   "cell_type": "code",
   "execution_count": 2,
   "id": "78d32a99-368a-451c-858a-1ad9982a470a",
   "metadata": {},
   "outputs": [
    {
     "name": "stdout",
     "output_type": "stream",
     "text": [
      "Hope AI\n"
     ]
    }
   ],
   "source": [
    "print(\"Hope AI\")"
   ]
  },
  {
   "cell_type": "code",
   "execution_count": 97,
   "id": "319b0e84-aba5-417a-9c78-f1022d3fc7f3",
   "metadata": {},
   "outputs": [
    {
     "name": "stdin",
     "output_type": "stream",
     "text": [
      "Enter your Institute name?: Hope AI\n"
     ]
    }
   ],
   "source": [
    "name=input(\"Enter your Institute name?:\")"
   ]
  },
  {
   "cell_type": "code",
   "execution_count": 12,
   "id": "445458a8-6bd8-436d-b5b2-3b1719f57e66",
   "metadata": {},
   "outputs": [
    {
     "name": "stdin",
     "output_type": "stream",
     "text": [
      "Enter your Name: Raj\n",
      "Enter your age: 15\n",
      "Enter your School: Guru School\n",
      "Enter your degree: B.E CSE\n"
     ]
    }
   ],
   "source": [
    "name=input(\"Enter your Name:\")\n",
    "age=int(input(\"Enter your age:\"))\n",
    "school=input(\"Enter your School:\")\n",
    "degree=input(\"Enter your degree:\")"
   ]
  },
  {
   "cell_type": "code",
   "execution_count": 14,
   "id": "8ed51d29-2d3e-4fcc-b4c7-5f62f63df6ec",
   "metadata": {},
   "outputs": [
    {
     "name": "stdout",
     "output_type": "stream",
     "text": [
      "a= 43\n",
      "b= 34\n",
      "add: 77\n"
     ]
    }
   ],
   "source": [
    "num1=43\n",
    "num2=34\n",
    "print(\"a=\",num1)\n",
    "print(\"b=\",num2)\n",
    "print(\"add:\",num1+num2)"
   ]
  },
  {
   "cell_type": "code",
   "execution_count": 15,
   "id": "684e0dd3-105b-4844-8184-4bb6fbaed150",
   "metadata": {},
   "outputs": [
    {
     "name": "stdout",
     "output_type": "stream",
     "text": [
      "a= 43\n",
      "b= 34\n",
      "sub: 9\n"
     ]
    }
   ],
   "source": [
    "num1=43\n",
    "num2=34\n",
    "print(\"a=\",num1)\n",
    "print(\"b=\",num2)\n",
    "print(\"sub:\",num1-num2)"
   ]
  },
  {
   "cell_type": "code",
   "execution_count": 17,
   "id": "dabf49d8-79cc-4750-8ca4-075b5c32f19e",
   "metadata": {},
   "outputs": [
    {
     "name": "stdout",
     "output_type": "stream",
     "text": [
      "a= 63\n",
      "b= 97\n",
      "mul: 6111\n"
     ]
    }
   ],
   "source": [
    "num1=63\n",
    "num2=97\n",
    "print(\"a=\",num1)\n",
    "print(\"b=\",num2)\n",
    "print(\"mul:\",num1*num2)"
   ]
  },
  {
   "cell_type": "code",
   "execution_count": 20,
   "id": "05e1ab5a-d711-4c2a-b884-4bfd083b1756",
   "metadata": {},
   "outputs": [
    {
     "name": "stdout",
     "output_type": "stream",
     "text": [
      "a= 76\n",
      "b= 31\n",
      "Float Div: 2.4516129032258065\n"
     ]
    }
   ],
   "source": [
    "num1=76\n",
    "num2=31\n",
    "print(\"a=\",num1)\n",
    "print(\"b=\",num2)\n",
    "print(\"Float Div:\",num1/num2)"
   ]
  },
  {
   "cell_type": "code",
   "execution_count": 21,
   "id": "2b4180a7-d83d-48e9-a1cb-342f93fa334b",
   "metadata": {},
   "outputs": [
    {
     "name": "stdout",
     "output_type": "stream",
     "text": [
      "a= 76\n",
      "b= 31\n",
      "Floor Div: 2\n"
     ]
    }
   ],
   "source": [
    "num1=76\n",
    "num2=31\n",
    "print(\"a=\",num1)\n",
    "print(\"b=\",num2)\n",
    "print(\"Floor Div:\",num1//num2)"
   ]
  },
  {
   "cell_type": "code",
   "execution_count": 22,
   "id": "ea38b9b1-31df-48af-ba79-6880ed137e01",
   "metadata": {},
   "outputs": [
    {
     "name": "stdout",
     "output_type": "stream",
     "text": [
      "a= 76\n",
      "b= 31\n",
      "Modulo: 14\n"
     ]
    }
   ],
   "source": [
    "num1=76\n",
    "num2=31\n",
    "print(\"a=\",num1)\n",
    "print(\"b=\",num2)\n",
    "print(\"Modulo:\",num1%num2)"
   ]
  },
  {
   "cell_type": "code",
   "execution_count": 25,
   "id": "bcab78dd-73db-4a25-9830-7b16949b401f",
   "metadata": {},
   "outputs": [
    {
     "name": "stdout",
     "output_type": "stream",
     "text": [
      "a= 4\n",
      "b= 4\n",
      "power: 256\n"
     ]
    }
   ],
   "source": [
    "num1=4\n",
    "num2=4\n",
    "print(\"a=\",num1)\n",
    "print(\"b=\",num2)\n",
    "print(\"power:\",num1**num2)"
   ]
  },
  {
   "cell_type": "code",
   "execution_count": 30,
   "id": "90bf6d77-6552-4376-bc03-a51c912740e3",
   "metadata": {},
   "outputs": [
    {
     "name": "stdout",
     "output_type": "stream",
     "text": [
      "0\n",
      "1\n",
      "2\n",
      "3\n",
      "4\n",
      "5\n",
      "6\n",
      "7\n",
      "8\n",
      "9\n",
      "10\n",
      "11\n",
      "12\n",
      "13\n",
      "14\n",
      "15\n",
      "16\n",
      "17\n",
      "18\n",
      "19\n"
     ]
    }
   ],
   "source": [
    "for num in range(20):\n",
    "    print(num)"
   ]
  },
  {
   "cell_type": "code",
   "execution_count": 31,
   "id": "e3d5f763-6574-445c-981c-bd271085d7f3",
   "metadata": {},
   "outputs": [
    {
     "name": "stdout",
     "output_type": "stream",
     "text": [
      "10,11,12,13,14,15,16,17,18,19,"
     ]
    }
   ],
   "source": [
    "for num in range(10,20):\n",
    "    print(num,end=',')  "
   ]
  },
  {
   "cell_type": "code",
   "execution_count": 78,
   "id": "c15963e0-c30d-4aa8-8b7c-58cb5b26a9d5",
   "metadata": {},
   "outputs": [
    {
     "name": "stdout",
     "output_type": "stream",
     "text": [
      "[10, 20, 14, 55, 43, 87, 76]\n",
      "Number of the Items in list2: 7\n"
     ]
    }
   ],
   "source": [
    "list2=[10,20,14,55,43,87,76]\n",
    "print(list2)\n",
    "print(\"Number of the Items in list2:\",len(list2))"
   ]
  },
  {
   "cell_type": "code",
   "execution_count": 45,
   "id": "e985b8e7-062a-45b9-8551-c13d9dc899bb",
   "metadata": {},
   "outputs": [
    {
     "name": "stdout",
     "output_type": "stream",
     "text": [
      "Artificial intelligence\n",
      "A\n",
      "r\n",
      "t\n",
      "i\n",
      "f\n",
      "i\n",
      "c\n",
      "i\n",
      "a\n",
      "l\n",
      " \n",
      "i\n",
      "n\n",
      "t\n",
      "e\n",
      "l\n",
      "l\n",
      "i\n",
      "g\n",
      "e\n",
      "n\n",
      "c\n",
      "e\n"
     ]
    }
   ],
   "source": [
    "print(\"Artificial intelligence\")\n",
    "def show_letters(word):\n",
    "    for order in word:\n",
    "        print(order)\n",
    "show_letters(\"Artificial intelligence\")"
   ]
  },
  {
   "cell_type": "code",
   "execution_count": 56,
   "id": "50aefcca-d65a-4c54-aa55-7bec02025379",
   "metadata": {},
   "outputs": [
    {
     "name": "stdout",
     "output_type": "stream",
     "text": [
      "your name\n",
      "your age\n",
      "your profession\n"
     ]
    }
   ],
   "source": [
    "print(\"your name\\nyour age\\nyour profession\")"
   ]
  },
  {
   "cell_type": "code",
   "execution_count": 47,
   "id": "ca7a3f9f-4928-4fa6-a41a-6e9c142ca9ab",
   "metadata": {},
   "outputs": [
    {
     "name": "stdout",
     "output_type": "stream",
     "text": [
      "(1, 'welcome', 2, 'Hope')\n"
     ]
    }
   ],
   "source": [
    "tuple=(1,'welcome',2,'Hope')\n",
    "print(tuple)"
   ]
  },
  {
   "cell_type": "code",
   "execution_count": 58,
   "id": "582ca3a1-e39a-46aa-82e4-c6742195672a",
   "metadata": {},
   "outputs": [
    {
     "name": "stdout",
     "output_type": "stream",
     "text": [
      "((0, 1, 2, 3), ('python', 'hope'))\n"
     ]
    }
   ],
   "source": [
    "tuple1=(0,1,2,3)\n",
    "tuple2=('python','hope')\n",
    "tuple3=(tuple1,tuple2)\n",
    "print(tuple3)"
   ]
  },
  {
   "cell_type": "code",
   "execution_count": 88,
   "id": "d4ebffaa-d049-4946-b2fb-0fc4b0c527f2",
   "metadata": {},
   "outputs": [
    {
     "name": "stdout",
     "output_type": "stream",
     "text": [
      "20\n",
      "The number is Even\n",
      "10\n",
      "The number is Even\n",
      "16\n",
      "The number is Even\n",
      "19\n",
      "The number is Odd\n",
      "25\n",
      "The number is Odd\n",
      "1\n",
      "The number is Odd\n",
      "276\n",
      "The number is Even\n",
      "188\n",
      "The number is Even\n"
     ]
    }
   ],
   "source": [
    "list=[20,10,16,19,25,1,276,188]\n",
    "for num in list:\n",
    "    print(num)\n",
    "    if ((num%2)==0):\n",
    "        print(\"The number is Even\")\n",
    "    else:\n",
    "       print(\"The number is Odd\")"
   ]
  },
  {
   "cell_type": "code",
   "execution_count": 89,
   "id": "ef1f8654-1ea7-44f9-9733-97dc79f79c76",
   "metadata": {},
   "outputs": [
    {
     "name": "stdout",
     "output_type": "stream",
     "text": [
      "20\n",
      "The number is Odd\n",
      "10\n",
      "The number is Odd\n",
      "16\n",
      "The number is Odd\n",
      "19\n",
      "The number is Even\n",
      "25\n",
      "The number is Even\n",
      "1\n",
      "The number is Even\n",
      "276\n",
      "The number is Odd\n",
      "188\n",
      "The number is Odd\n"
     ]
    }
   ],
   "source": [
    "list=[20,10,16,19,25,1,276,188]\n",
    "for num in list:\n",
    "    print(num)\n",
    "    if ((num%2)==1):\n",
    "        print(\"The number is Even\")\n",
    "    else:\n",
    "       print(\"The number is Odd\")"
   ]
  },
  {
   "cell_type": "code",
   "execution_count": 93,
   "id": "68c76a98-95de-4df3-8204-5a926b58db36",
   "metadata": {},
   "outputs": [
    {
     "name": "stdin",
     "output_type": "stream",
     "text": [
      "Value 10\n"
     ]
    },
    {
     "name": "stdout",
     "output_type": "stream",
     "text": [
      "correct\n"
     ]
    }
   ],
   "source": [
    "i=int(input(\"Value\"))\n",
    "if(i==10):\n",
    "    print(\"correct\")"
   ]
  },
  {
   "cell_type": "code",
   "execution_count": 114,
   "id": "4df6cc2d-4016-4679-96e7-590d89ec8ea2",
   "metadata": {},
   "outputs": [
    {
     "name": "stdin",
     "output_type": "stream",
     "text": [
      "Enter your Password: Hope@123\n"
     ]
    },
    {
     "name": "stdout",
     "output_type": "stream",
     "text": [
      "Your password is correct\n"
     ]
    }
   ],
   "source": [
    "password=input(\"Enter your Password:\")\n",
    "if(password=='Hope@123'):\n",
    "    print(\"Your password is correct\")\n",
    "else:\n",
    "    print(\"Your password is Incorrect\")"
   ]
  },
  {
   "cell_type": "code",
   "execution_count": 119,
   "id": "40778278-67ae-424d-9dc0-314c581dc028",
   "metadata": {},
   "outputs": [
    {
     "name": "stdin",
     "output_type": "stream",
     "text": [
      "Enter the Age: 20\n"
     ]
    },
    {
     "name": "stdout",
     "output_type": "stream",
     "text": [
      "Adult\n"
     ]
    }
   ],
   "source": [
    "age=int(input(\"Enter the Age:\"))\n",
    "if(age<18):                                         \n",
    "    print(\"Children\")\n",
    "elif(age<35):\n",
    "    print(\"Adult\")\n",
    "elif(age<70):\n",
    "    print(\"Citizen\")\n",
    "else:\n",
    "    print(\"Super Citizen\")"
   ]
  },
  {
   "cell_type": "code",
   "execution_count": 122,
   "id": "2b1405f1-5dad-4020-827a-a18450317160",
   "metadata": {},
   "outputs": [
    {
     "name": "stdin",
     "output_type": "stream",
     "text": [
      "Enter the no: 1\n"
     ]
    },
    {
     "name": "stdout",
     "output_type": "stream",
     "text": [
      "no is Positive\n"
     ]
    }
   ],
   "source": [
    "num=int(input(\"Enter the no:\"))\n",
    "if(num==1):\n",
    "    print(\"no is Positive\")\n",
    "else:\n",
    "    print(\"no is Negative\")\n",
    "        "
   ]
  },
  {
   "cell_type": "code",
   "execution_count": 133,
   "id": "250a6a51-ec54-46f9-8b95-ed934c1b2bae",
   "metadata": {},
   "outputs": [
    {
     "name": "stdin",
     "output_type": "stream",
     "text": [
      "Enter a number to check: 22\n"
     ]
    },
    {
     "name": "stdout",
     "output_type": "stream",
     "text": [
      "The number is not divisible\n"
     ]
    }
   ],
   "source": [
    "num=int(input(\"Enter a number to check:\"))\n",
    "if(num%div==5):\n",
    "    print(\"The number is divisible\")\n",
    "else:\n",
    "    print(\"The number is not divisible\")"
   ]
  },
  {
   "cell_type": "code",
   "execution_count": null,
   "id": "5495ae69-05af-42fd-954b-bb55b0c597db",
   "metadata": {},
   "outputs": [],
   "source": []
  }
 ],
 "metadata": {
  "kernelspec": {
   "display_name": "Python 3 (ipykernel)",
   "language": "python",
   "name": "python3"
  },
  "language_info": {
   "codemirror_mode": {
    "name": "ipython",
    "version": 3
   },
   "file_extension": ".py",
   "mimetype": "text/x-python",
   "name": "python",
   "nbconvert_exporter": "python",
   "pygments_lexer": "ipython3",
   "version": "3.12.7"
  }
 },
 "nbformat": 4,
 "nbformat_minor": 5
}
