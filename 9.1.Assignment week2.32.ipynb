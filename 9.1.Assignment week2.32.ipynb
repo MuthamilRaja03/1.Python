{
 "cells": [
  {
   "cell_type": "code",
   "execution_count": 1,
   "id": "a65a8c73-b0be-4ee9-a736-d856b64ebc6d",
   "metadata": {},
   "outputs": [],
   "source": [
    "from Assignment1 import assign"
   ]
  },
  {
   "cell_type": "code",
   "execution_count": 3,
   "id": "c79c8353-a107-4f5c-96f2-afadbcb69186",
   "metadata": {},
   "outputs": [
    {
     "name": "stdout",
     "output_type": "stream",
     "text": [
      "Subfields in AI are:\n",
      "Machine Learning\n",
      "Neural Networks\n",
      "Vision\n",
      "Robotics\n",
      "Speech Processing\n",
      "NLP\n"
     ]
    }
   ],
   "source": [
    "assign.subfields()"
   ]
  },
  {
   "cell_type": "code",
   "execution_count": 5,
   "id": "a0bf8301-c23d-4a53-8400-aaa07c5de27b",
   "metadata": {},
   "outputs": [
    {
     "name": "stdin",
     "output_type": "stream",
     "text": [
      "Enter the number: 52452\n"
     ]
    },
    {
     "name": "stdout",
     "output_type": "stream",
     "text": [
      "52452  is Even Number\n"
     ]
    }
   ],
   "source": [
    "assign.oddeven()"
   ]
  },
  {
   "cell_type": "code",
   "execution_count": 6,
   "id": "67c102bc-7187-4e24-a093-be957f578580",
   "metadata": {},
   "outputs": [
    {
     "name": "stdin",
     "output_type": "stream",
     "text": [
      "Your gender:  female\n",
      "Your age:  22\n"
     ]
    },
    {
     "name": "stdout",
     "output_type": "stream",
     "text": [
      "You are eligible\n"
     ]
    }
   ],
   "source": [
    "assign.eligible()"
   ]
  },
  {
   "cell_type": "code",
   "execution_count": 7,
   "id": "a42376ba-aa9f-4e91-99f4-a96398c1aa66",
   "metadata": {},
   "outputs": [
    {
     "name": "stdout",
     "output_type": "stream",
     "text": [
      "subject1= 98\n",
      "subject2= 87\n",
      "subject3= 95\n",
      "subject4= 95\n",
      "subject5= 93\n",
      "Total= 468\n",
      "percentage= 93.6\n"
     ]
    },
    {
     "data": {
      "text/plain": [
       "93.6"
      ]
     },
     "execution_count": 7,
     "metadata": {},
     "output_type": "execute_result"
    }
   ],
   "source": [
    "assign.percentage(98,87,95,95,93)"
   ]
  },
  {
   "cell_type": "code",
   "execution_count": 8,
   "id": "9e436a1f-a244-4df0-a74a-17b202929e74",
   "metadata": {},
   "outputs": [
    {
     "name": "stdin",
     "output_type": "stream",
     "text": [
      "Height is: 32\n",
      "Breadth is: 34\n"
     ]
    },
    {
     "name": "stdout",
     "output_type": "stream",
     "text": [
      "Area of triangle: 544.0\n"
     ]
    },
    {
     "name": "stdin",
     "output_type": "stream",
     "text": [
      "Height1 is: 2\n",
      "Height2 is: 4\n",
      "Height3 is: 4\n"
     ]
    },
    {
     "name": "stdout",
     "output_type": "stream",
     "text": [
      "perimeter of triangle: 10\n"
     ]
    }
   ],
   "source": [
    "assign.triangle()"
   ]
  }
 ],
 "metadata": {
  "kernelspec": {
   "display_name": "Python 3 (ipykernel)",
   "language": "python",
   "name": "python3"
  },
  "language_info": {
   "codemirror_mode": {
    "name": "ipython",
    "version": 3
   },
   "file_extension": ".py",
   "mimetype": "text/x-python",
   "name": "python",
   "nbconvert_exporter": "python",
   "pygments_lexer": "ipython3",
   "version": "3.12.7"
  }
 },
 "nbformat": 4,
 "nbformat_minor": 5
}
