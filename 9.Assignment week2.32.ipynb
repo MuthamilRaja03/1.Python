{
 "cells": [
  {
   "cell_type": "code",
   "execution_count": 2,
   "id": "466a75a6-d7f4-4471-b5de-ff08f0811362",
   "metadata": {},
   "outputs": [],
   "source": [
    "class subFieldsInAI():\n",
    "    def subfields():\n",
    "        print(\"Subfields in AI are:\")\n",
    "        fields = [\"Machine Learning\", \"Neural Networks\", \"Vision\", \"Robotics\", \"Speech Processing\", \"NLP\"]\n",
    "        for field in fields:\n",
    "            print(field)"
   ]
  },
  {
   "cell_type": "code",
   "execution_count": 3,
   "id": "8eb72386-87ec-4a9c-b945-6de82f92dfaf",
   "metadata": {},
   "outputs": [
    {
     "name": "stdout",
     "output_type": "stream",
     "text": [
      "Subfields in AI are:\n",
      "Machine Learning\n",
      "Neural Networks\n",
      "Vision\n",
      "Robotics\n",
      "Speech Processing\n",
      "NLP\n"
     ]
    }
   ],
   "source": [
    "subFieldsInAI.subfields()"
   ]
  },
  {
   "cell_type": "code",
   "execution_count": 7,
   "id": "62f503ed-ab04-45d5-9417-e61ace839c94",
   "metadata": {},
   "outputs": [],
   "source": [
    "class OddEven():\n",
    "    def oddeven():\n",
    "        num=int(input(\"Enter the number:\"))\n",
    "        if((num%2)==0):\n",
    "            print(num,\" is Even Number\")\n",
    "        else:\n",
    "            print(num,\" is Odd Number\")"
   ]
  },
  {
   "cell_type": "code",
   "execution_count": 8,
   "id": "9e2fb37f-49a5-4c5f-8ea1-cb1b1517a5b8",
   "metadata": {},
   "outputs": [
    {
     "name": "stdin",
     "output_type": "stream",
     "text": [
      "Enter the number: 52452\n"
     ]
    },
    {
     "name": "stdout",
     "output_type": "stream",
     "text": [
      "52452  is Even Number\n"
     ]
    }
   ],
   "source": [
    "OddEven.oddeven()"
   ]
  },
  {
   "cell_type": "code",
   "execution_count": 9,
   "id": "4e90a5bd-03ba-46ae-98e9-9491211c102f",
   "metadata": {},
   "outputs": [],
   "source": [
    "class EligibiltyForMarriage():\n",
    "    def eligible():\n",
    "        gender=input(\"Your gender:\")\n",
    "        age=int(input(\"Your age:\"))\n",
    "        if (gender==\"male\"):\n",
    "            if(age>=21):\n",
    "                print(\"you are eligible\")\n",
    "            else:\n",
    "                print(\"you are not Eligible\")\n",
    "        if (gender==\"female\"):\n",
    "            if(age<=18):\n",
    "                print(\"you are not eligilbe\")\n",
    "            else:\n",
    "                print(\"you are eligible\")"
   ]
  },
  {
   "cell_type": "code",
   "execution_count": 10,
   "id": "c081013d-3d0c-4040-8112-9149661bbd1a",
   "metadata": {},
   "outputs": [
    {
     "name": "stdin",
     "output_type": "stream",
     "text": [
      "Your gender: male\n",
      "Your age: 25\n"
     ]
    },
    {
     "name": "stdout",
     "output_type": "stream",
     "text": [
      "you are eligible\n"
     ]
    }
   ],
   "source": [
    "EligibiltyForMarriage.eligible()"
   ]
  },
  {
   "cell_type": "code",
   "execution_count": 14,
   "id": "659f76e8-5a86-405f-8762-8190346b7a17",
   "metadata": {},
   "outputs": [],
   "source": [
    "class FindPercent():\n",
    "    def percentage(mark1,mark2,mark3,mark4,mark5):\n",
    "            Total=mark1+mark2+mark3+mark4+mark5\n",
    "            print(\"subject1=\",mark1)\n",
    "            print(\"subject2=\",mark2)\n",
    "            print(\"subject3=\",mark3)\n",
    "            print(\"subject4=\",mark4)\n",
    "            print(\"subject5=\",mark5)\n",
    "            print(\"Total=\",Total)\n",
    "            percent=Total/5\n",
    "            print(\"percentage=\",percent)\n",
    "            return percent"
   ]
  },
  {
   "cell_type": "code",
   "execution_count": 15,
   "id": "12fa6101-a334-4ed4-b725-4288aa855bc8",
   "metadata": {},
   "outputs": [
    {
     "name": "stdout",
     "output_type": "stream",
     "text": [
      "subject1= 98\n",
      "subject2= 87\n",
      "subject3= 95\n",
      "subject4= 95\n",
      "subject5= 93\n",
      "Total= 468\n",
      "percentage= 93.6\n"
     ]
    },
    {
     "data": {
      "text/plain": [
       "93.6"
      ]
     },
     "execution_count": 15,
     "metadata": {},
     "output_type": "execute_result"
    }
   ],
   "source": [
    "FindPercent.percentage(98,87,95,95,93)"
   ]
  },
  {
   "cell_type": "code",
   "execution_count": 16,
   "id": "5eaf8497-9e2a-4cc0-af8e-c961de38f28d",
   "metadata": {},
   "outputs": [],
   "source": [
    "class triangle():\n",
    "    def triangle():\n",
    "        num1=int(input(\"Height is:\"))\n",
    "        num2=int(input(\"Breadth is:\"))\n",
    "        print(\"Area of triangle:\",(num1*num2)/2)\n",
    "        num3=int(input(\"Height1 is:\"))\n",
    "        num4=int(input(\"Height2 is:\"))\n",
    "        num5=int(input(\"Height3 is:\"))\n",
    "        print(\"perimeter of triangle:\",num3+num4+num5)"
   ]
  },
  {
   "cell_type": "code",
   "execution_count": 17,
   "id": "b6d1aee1-a0be-4365-90e2-3ad657941144",
   "metadata": {},
   "outputs": [
    {
     "name": "stdin",
     "output_type": "stream",
     "text": [
      "Height is: 32\n",
      "Breadth is: 34\n"
     ]
    },
    {
     "name": "stdout",
     "output_type": "stream",
     "text": [
      "Area of triangle: 544.0\n"
     ]
    },
    {
     "name": "stdin",
     "output_type": "stream",
     "text": [
      "Height1 is: 2\n",
      "Height2 is: 4\n",
      "Height3 is: 4\n"
     ]
    },
    {
     "name": "stdout",
     "output_type": "stream",
     "text": [
      "perimeter of triangle: 10\n"
     ]
    }
   ],
   "source": [
    "triangle.triangle()"
   ]
  }
 ],
 "metadata": {
  "kernelspec": {
   "display_name": "Python 3 (ipykernel)",
   "language": "python",
   "name": "python3"
  },
  "language_info": {
   "codemirror_mode": {
    "name": "ipython",
    "version": 3
   },
   "file_extension": ".py",
   "mimetype": "text/x-python",
   "name": "python",
   "nbconvert_exporter": "python",
   "pygments_lexer": "ipython3",
   "version": "3.12.7"
  }
 },
 "nbformat": 4,
 "nbformat_minor": 5
}
